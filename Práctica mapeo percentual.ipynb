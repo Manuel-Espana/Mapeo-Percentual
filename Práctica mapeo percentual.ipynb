{
 "cells": [
  {
   "cell_type": "markdown",
   "metadata": {},
   "source": [
    "# Práctica mapeo percentual\n",
    "España Tzec Jesús Manuel"
   ]
  },
  {
   "cell_type": "code",
   "execution_count": 1,
   "metadata": {
    "scrolled": true
   },
   "outputs": [
    {
     "name": "stderr",
     "output_type": "stream",
     "text": [
      "Warning message:\n",
      "\"package 'corrplot' was built under R version 3.5.3\"corrplot 0.84 loaded\n",
      "Warning message:\n",
      "\"package 'nFactors' was built under R version 3.5.3\"Loading required package: lattice\n",
      "\n",
      "Attaching package: 'nFactors'\n",
      "\n",
      "The following object is masked from 'package:lattice':\n",
      "\n",
      "    parallel\n",
      "\n",
      "Warning message:\n",
      "\"package 'psych' was built under R version 3.5.3\"Warning message:\n",
      "\"package 'dplyr' was built under R version 3.5.3\"\n",
      "Attaching package: 'dplyr'\n",
      "\n",
      "The following objects are masked from 'package:stats':\n",
      "\n",
      "    filter, lag\n",
      "\n",
      "The following objects are masked from 'package:base':\n",
      "\n",
      "    intersect, setdiff, setequal, union\n",
      "\n"
     ]
    }
   ],
   "source": [
    "library(corrplot)\n",
    "library(nFactors)\n",
    "library(psych)\n",
    "library(dplyr)"
   ]
  },
  {
   "cell_type": "markdown",
   "metadata": {},
   "source": [
    "Para empezar hacemos la carga de los datos *cardata.csv* y vemos los primeros datos del conjunto"
   ]
  },
  {
   "cell_type": "code",
   "execution_count": 2,
   "metadata": {},
   "outputs": [
    {
     "data": {
      "text/html": [
       "<table>\n",
       "<thead><tr><th scope=col>ID</th><th scope=col>Education</th><th scope=col>Brand</th><th scope=col>Trendy</th><th scope=col>Styling</th><th scope=col>Sportiness</th><th scope=col>Reliability</th><th scope=col>Performance</th><th scope=col>Comfort</th><th scope=col>Preference</th></tr></thead>\n",
       "<tbody>\n",
       "\t<tr><td>1       </td><td>MBA     </td><td>Acura   </td><td>6       </td><td> 5      </td><td>6       </td><td>8       </td><td>6       </td><td>6       </td><td> 7      </td></tr>\n",
       "\t<tr><td>1       </td><td>MBA     </td><td>BMW     </td><td>9       </td><td>10      </td><td>7       </td><td>8       </td><td>8       </td><td>7       </td><td>10      </td></tr>\n",
       "\t<tr><td>1       </td><td>MBA     </td><td>Cadillac</td><td>4       </td><td> 6      </td><td>3       </td><td>5       </td><td>6       </td><td>9       </td><td> 5      </td></tr>\n",
       "\t<tr><td>1       </td><td>MBA     </td><td>Lexus   </td><td>6       </td><td> 7      </td><td>2       </td><td>9       </td><td>7       </td><td>8       </td><td> 8      </td></tr>\n",
       "\t<tr><td>1       </td><td>MBA     </td><td>Lincoln </td><td>4       </td><td> 5      </td><td>1       </td><td>5       </td><td>5       </td><td>9       </td><td> 4      </td></tr>\n",
       "\t<tr><td>1       </td><td>MBA     </td><td>Mercedes</td><td>8       </td><td> 9      </td><td>5       </td><td>8       </td><td>9       </td><td>8       </td><td> 9      </td></tr>\n",
       "</tbody>\n",
       "</table>\n"
      ],
      "text/latex": [
       "\\begin{tabular}{r|llllllllll}\n",
       " ID & Education & Brand & Trendy & Styling & Sportiness & Reliability & Performance & Comfort & Preference\\\\\n",
       "\\hline\n",
       "\t 1        & MBA      & Acura    & 6        &  5       & 6        & 8        & 6        & 6        &  7      \\\\\n",
       "\t 1        & MBA      & BMW      & 9        & 10       & 7        & 8        & 8        & 7        & 10      \\\\\n",
       "\t 1        & MBA      & Cadillac & 4        &  6       & 3        & 5        & 6        & 9        &  5      \\\\\n",
       "\t 1        & MBA      & Lexus    & 6        &  7       & 2        & 9        & 7        & 8        &  8      \\\\\n",
       "\t 1        & MBA      & Lincoln  & 4        &  5       & 1        & 5        & 5        & 9        &  4      \\\\\n",
       "\t 1        & MBA      & Mercedes & 8        &  9       & 5        & 8        & 9        & 8        &  9      \\\\\n",
       "\\end{tabular}\n"
      ],
      "text/markdown": [
       "\n",
       "ID | Education | Brand | Trendy | Styling | Sportiness | Reliability | Performance | Comfort | Preference | \n",
       "|---|---|---|---|---|---|\n",
       "| 1        | MBA      | Acura    | 6        |  5       | 6        | 8        | 6        | 6        |  7       | \n",
       "| 1        | MBA      | BMW      | 9        | 10       | 7        | 8        | 8        | 7        | 10       | \n",
       "| 1        | MBA      | Cadillac | 4        |  6       | 3        | 5        | 6        | 9        |  5       | \n",
       "| 1        | MBA      | Lexus    | 6        |  7       | 2        | 9        | 7        | 8        |  8       | \n",
       "| 1        | MBA      | Lincoln  | 4        |  5       | 1        | 5        | 5        | 9        |  4       | \n",
       "| 1        | MBA      | Mercedes | 8        |  9       | 5        | 8        | 9        | 8        |  9       | \n",
       "\n",
       "\n"
      ],
      "text/plain": [
       "  ID Education Brand    Trendy Styling Sportiness Reliability Performance\n",
       "1 1  MBA       Acura    6       5      6          8           6          \n",
       "2 1  MBA       BMW      9      10      7          8           8          \n",
       "3 1  MBA       Cadillac 4       6      3          5           6          \n",
       "4 1  MBA       Lexus    6       7      2          9           7          \n",
       "5 1  MBA       Lincoln  4       5      1          5           5          \n",
       "6 1  MBA       Mercedes 8       9      5          8           9          \n",
       "  Comfort Preference\n",
       "1 6        7        \n",
       "2 7       10        \n",
       "3 9        5        \n",
       "4 8        8        \n",
       "5 9        4        \n",
       "6 8        9        "
      ]
     },
     "metadata": {},
     "output_type": "display_data"
    }
   ],
   "source": [
    "data <- read.csv('cardata.csv')\n",
    "head(data)"
   ]
  },
  {
   "cell_type": "markdown",
   "metadata": {},
   "source": [
    "Para poder explorar los datos, utilizamos una matriz de correlaciones"
   ]
  },
  {
   "cell_type": "code",
   "execution_count": 3,
   "metadata": {
    "scrolled": false
   },
   "outputs": [
    {
     "data": {
      "image/png": "[encoded data removed]",
      "text/plain": [
       "Plot with title \"\""
      ]
     },
     "metadata": {},
     "output_type": "display_data"
    }
   ],
   "source": [
    "vars_manif <- data[,4:10] \n",
    "corrplot(cor(vars_manif), order = \"hclust\")"
   ]
  },
  {
   "cell_type": "markdown",
   "metadata": {},
   "source": [
    "En la matriz de correclaciones se puede apreciar que hay un grupo que esta fuertemente correlacionado, y quizá un par más de grupos que están correlacionados pero no tanto."
   ]
  },
  {
   "cell_type": "markdown",
   "metadata": {},
   "source": [
    "Ahora procedemos a obtener los valores propios, debido a que la suma de los valores propios de la matriz de correlaciones es igual al número de variables manifiestas, entonces esto nos da un criterio frecuentemente utilizado para definir el número de factores es identificar cuántos valores propios de esta matriz son mayores a la unidad.\n",
    "Entonces obtenemos los valores propios de la matriz de correlación anterior de las variables manifiestas."
   ]
  },
  {
   "cell_type": "code",
   "execution_count": 4,
   "metadata": {},
   "outputs": [
    {
     "data": {
      "text/html": [
       "<ol class=list-inline>\n",
       "\t<li>4.10763776247357</li>\n",
       "\t<li>0.938313511723461</li>\n",
       "\t<li>0.762773769605279</li>\n",
       "\t<li>0.474260500137915</li>\n",
       "\t<li>0.279948654765398</li>\n",
       "\t<li>0.271515351076341</li>\n",
       "\t<li>0.16555045021803</li>\n",
       "</ol>\n"
      ],
      "text/latex": [
       "\\begin{enumerate*}\n",
       "\\item 4.10763776247357\n",
       "\\item 0.938313511723461\n",
       "\\item 0.762773769605279\n",
       "\\item 0.474260500137915\n",
       "\\item 0.279948654765398\n",
       "\\item 0.271515351076341\n",
       "\\item 0.16555045021803\n",
       "\\end{enumerate*}\n"
      ],
      "text/markdown": [
       "1. 4.10763776247357\n",
       "2. 0.938313511723461\n",
       "3. 0.762773769605279\n",
       "4. 0.474260500137915\n",
       "5. 0.279948654765398\n",
       "6. 0.271515351076341\n",
       "7. 0.16555045021803\n",
       "\n",
       "\n"
      ],
      "text/plain": [
       "[1] 4.1076378 0.9383135 0.7627738 0.4742605 0.2799487 0.2715154 0.1655505"
      ]
     },
     "metadata": {},
     "output_type": "display_data"
    }
   ],
   "source": [
    "eig <- eigen(cor(vars_manif))\n",
    "eig$values"
   ]
  },
  {
   "cell_type": "markdown",
   "metadata": {},
   "source": [
    "Se puede observar que solo un valor propio es mayor a uno, y eso no indica que las variables manifiestas se explican con un solo factor, como ya habíamos más o menos observado con la matriz de correlaciones. Para tener una vista más visual, procedemos a hacer una gráfica de la estructura de los valores propios."
   ]
  },
  {
   "cell_type": "code",
   "execution_count": 5,
   "metadata": {
    "scrolled": false
   },
   "outputs": [
    {
     "data": {
      "image/png": "[encoded data removed]",
      "text/plain": [
       "Plot with title \"Scree Plot\""
      ]
     },
     "metadata": {},
     "output_type": "display_data"
    }
   ],
   "source": [
    "plot(eig$values, main=\"Scree Plot\", t='l', ylab = \"Valores propios\", xlab=\"Índices\")\n",
    "points(eig$values)"
   ]
  },
  {
   "cell_type": "markdown",
   "metadata": {},
   "source": [
    "Para estar completamente seguros de los resultado anteriores utilizamos la librería **nFactors**, que utiliza diferentes criterios y así obtener el número de factores."
   ]
  },
  {
   "cell_type": "code",
   "execution_count": 6,
   "metadata": {},
   "outputs": [
    {
     "data": {
      "text/plain": [
       "  noc naf nparallel nkaiser\n",
       "1   1   1         1       1"
      ]
     },
     "metadata": {},
     "output_type": "display_data"
    }
   ],
   "source": [
    "nScree(vars_manif, cor=T)"
   ]
  },
  {
   "cell_type": "markdown",
   "metadata": {},
   "source": [
    "Todos los criterios nos dicen que las variables manifiestas se pueden explicar con un solo factor. Ahora que ya tenemos la cantidad de factores, asociamos las variables manifiestas con los factores, para eso, podemos revisar la correlación de cada variable manifiesta con los factores identificados y para eso usamos la librería **psych**."
   ]
  },
  {
   "cell_type": "code",
   "execution_count": 7,
   "metadata": {},
   "outputs": [],
   "source": [
    "fit <- principal(vars_manif,nfactors=1, rotate=\"varimax\")"
   ]
  },
  {
   "cell_type": "markdown",
   "metadata": {},
   "source": [
    "## 1.- Utiliza un número de factores que explique el 80% de la información en la matriz de correlaciones."
   ]
  },
  {
   "cell_type": "markdown",
   "metadata": {},
   "source": [
    "Utilizamos el atributo loadings para observar la correlación entre cada variable manifiesta."
   ]
  },
  {
   "cell_type": "code",
   "execution_count": 8,
   "metadata": {
    "scrolled": true
   },
   "outputs": [
    {
     "data": {
      "text/plain": [
       "\n",
       "Loadings:\n",
       "            PC1  \n",
       "Trendy      0.880\n",
       "Styling     0.883\n",
       "Sportiness  0.791\n",
       "Reliability 0.775\n",
       "Performance 0.861\n",
       "Comfort     0.544\n",
       "Preference  0.537\n",
       "\n",
       "                 PC1\n",
       "SS loadings    4.108\n",
       "Proportion Var 0.587"
      ]
     },
     "metadata": {},
     "output_type": "display_data"
    }
   ],
   "source": [
    "fit$loadings"
   ]
  },
  {
   "cell_type": "markdown",
   "metadata": {},
   "source": [
    "A primera vista nos damos cuenta que este factor solo explica el 58% de la información en la matriz de correlaciones. Entonces no se cumple el que se explique el 80% de la información en la matriz de correlaciones, por lo que nos vemos obligados a usar más factores para poder explicar ese 80% aunque los criterios anteriores nos indique que solo deberíamos usar uno."
   ]
  },
  {
   "cell_type": "code",
   "execution_count": 9,
   "metadata": {
    "scrolled": true
   },
   "outputs": [
    {
     "data": {
      "text/plain": [
       "\n",
       "Loadings:\n",
       "            RC1   RC2  \n",
       "Trendy      0.868 0.268\n",
       "Styling     0.833 0.331\n",
       "Sportiness  0.898      \n",
       "Reliability 0.523 0.630\n",
       "Performance 0.655 0.578\n",
       "Comfort           0.929\n",
       "Preference  0.527 0.168\n",
       "\n",
       "                 RC1   RC2\n",
       "SS loadings    3.240 1.806\n",
       "Proportion Var 0.463 0.258\n",
       "Cumulative Var 0.463 0.721"
      ]
     },
     "metadata": {},
     "output_type": "display_data"
    }
   ],
   "source": [
    "fit <- principal(vars_manif,nfactors=2, rotate=\"varimax\")\n",
    "fit$loadings"
   ]
  },
  {
   "cell_type": "markdown",
   "metadata": {},
   "source": [
    "Ahora con dos factores observamos que solo llega a explicar el 72% de la información en la matriz de correlaciones, por lo que tenemos que seguir agregando factores."
   ]
  },
  {
   "cell_type": "markdown",
   "metadata": {},
   "source": [
    "## 2.- Asocia cada una de las variables manifiestas a los factores identificados e interprétalos."
   ]
  },
  {
   "cell_type": "code",
   "execution_count": 10,
   "metadata": {
    "scrolled": true
   },
   "outputs": [
    {
     "data": {
      "text/plain": [
       "\n",
       "Loadings:\n",
       "            RC1   RC2   RC3  \n",
       "Trendy      0.872 0.241 0.165\n",
       "Styling     0.836 0.304 0.170\n",
       "Sportiness  0.899       0.157\n",
       "Reliability 0.511 0.611 0.188\n",
       "Performance 0.663 0.557 0.151\n",
       "Comfort           0.925      \n",
       "Preference  0.220 0.129 0.966\n",
       "\n",
       "                 RC1   RC2   RC3\n",
       "SS loadings    3.024 1.708 1.076\n",
       "Proportion Var 0.432 0.244 0.154\n",
       "Cumulative Var 0.432 0.676 0.830"
      ]
     },
     "metadata": {},
     "output_type": "display_data"
    }
   ],
   "source": [
    "fit <- principal(vars_manif,nfactors=3, rotate=\"varimax\")\n",
    "fit$loadings"
   ]
  },
  {
   "cell_type": "markdown",
   "metadata": {},
   "source": [
    "Con tres factores vemos que llegamos a explicar el 83% de la información. Ahora podemos apreciar que *Trendy*, *Styling* y *Sportiness* y se correlacionan fuertemente y *Performance* se correlaciona de manera decente con el primer factor que se llamara **Moda y Desempeño**. *Reliability* y *Comfort* se correlacionan con el segundo factor que se llamara **Conformidad y Confiablidad**. Y por último *Preference* se correlaciona muy fuertemente con el tercer factor que se llamara **Preferencia**."
   ]
  },
  {
   "cell_type": "code",
   "execution_count": 11,
   "metadata": {},
   "outputs": [
    {
     "data": {
      "text/html": [
       "<table>\n",
       "<thead><tr><th></th><th scope=col>RC1</th><th scope=col>RC2</th><th scope=col>RC3</th></tr></thead>\n",
       "<tbody>\n",
       "\t<tr><th scope=row>Trendy</th><td> 0.35174839 </td><td>-0.09885030 </td><td>-0.077884903</td></tr>\n",
       "\t<tr><th scope=row>Styling</th><td> 0.30926823 </td><td>-0.03259499 </td><td>-0.069228367</td></tr>\n",
       "\t<tr><th scope=row>Sportiness</th><td> 0.44067698 </td><td>-0.29677325 </td><td>-0.066626181</td></tr>\n",
       "\t<tr><th scope=row>Reliability</th><td> 0.02605875 </td><td> 0.33709350 </td><td> 0.004535482</td></tr>\n",
       "\t<tr><th scope=row>Performance</th><td> 0.13724018 </td><td> 0.24561711 </td><td>-0.076789553</td></tr>\n",
       "\t<tr><th scope=row>Comfort</th><td>-0.27650410 </td><td> 0.76554285 </td><td>-0.064055716</td></tr>\n",
       "\t<tr><th scope=row>Preference</th><td>-0.19398553 </td><td>-0.08498018 </td><td> 1.086997351</td></tr>\n",
       "</tbody>\n",
       "</table>\n"
      ],
      "text/latex": [
       "\\begin{tabular}{r|lll}\n",
       "  & RC1 & RC2 & RC3\\\\\n",
       "\\hline\n",
       "\tTrendy &  0.35174839  & -0.09885030  & -0.077884903\\\\\n",
       "\tStyling &  0.30926823  & -0.03259499  & -0.069228367\\\\\n",
       "\tSportiness &  0.44067698  & -0.29677325  & -0.066626181\\\\\n",
       "\tReliability &  0.02605875  &  0.33709350  &  0.004535482\\\\\n",
       "\tPerformance &  0.13724018  &  0.24561711  & -0.076789553\\\\\n",
       "\tComfort & -0.27650410  &  0.76554285  & -0.064055716\\\\\n",
       "\tPreference & -0.19398553  & -0.08498018  &  1.086997351\\\\\n",
       "\\end{tabular}\n"
      ],
      "text/markdown": [
       "\n",
       "| <!--/--> | RC1 | RC2 | RC3 | \n",
       "|---|---|---|---|---|---|---|\n",
       "| Trendy |  0.35174839  | -0.09885030  | -0.077884903 | \n",
       "| Styling |  0.30926823  | -0.03259499  | -0.069228367 | \n",
       "| Sportiness |  0.44067698  | -0.29677325  | -0.066626181 | \n",
       "| Reliability |  0.02605875  |  0.33709350  |  0.004535482 | \n",
       "| Performance |  0.13724018  |  0.24561711  | -0.076789553 | \n",
       "| Comfort | -0.27650410  |  0.76554285  | -0.064055716 | \n",
       "| Preference | -0.19398553  | -0.08498018  |  1.086997351 | \n",
       "\n",
       "\n"
      ],
      "text/plain": [
       "            RC1         RC2         RC3         \n",
       "Trendy       0.35174839 -0.09885030 -0.077884903\n",
       "Styling      0.30926823 -0.03259499 -0.069228367\n",
       "Sportiness   0.44067698 -0.29677325 -0.066626181\n",
       "Reliability  0.02605875  0.33709350  0.004535482\n",
       "Performance  0.13724018  0.24561711 -0.076789553\n",
       "Comfort     -0.27650410  0.76554285 -0.064055716\n",
       "Preference  -0.19398553 -0.08498018  1.086997351"
      ]
     },
     "metadata": {},
     "output_type": "display_data"
    }
   ],
   "source": [
    "fit$weights"
   ]
  },
  {
   "cell_type": "markdown",
   "metadata": {},
   "source": [
    "Los factores pueden explicarse como una combinación lineal de las variables manifiestas. Para Moda y Desempeño se puede explicar de la manera: *ModaDesem = 0.35Trendy + 0.30Styling + 0.44Sportiness + 0.13Performance*. Para Conformidad y Confiabilidad: *ConforConfia = 0.33Reliability + 0.76Comfort*. Y para Preferencia se puede definir como: *Pref = 1.08Preference*"
   ]
  },
  {
   "cell_type": "markdown",
   "metadata": {},
   "source": [
    "## 3.- Para cada marca de autos, evalúa el promedio de cada uno de los factores y construye un mapa en el que muestres sus ubicaciones."
   ]
  },
  {
   "cell_type": "markdown",
   "metadata": {},
   "source": [
    "Añadimos el atributo *scores* al conjunto de datos inicial con los nombres que le habíamos dado a los factores."
   ]
  },
  {
   "cell_type": "code",
   "execution_count": 12,
   "metadata": {},
   "outputs": [],
   "source": [
    "colnames(fit$scores) = c( \"ModayDesempeño\" , \"ConformidadyConfiabilidad\" , \"Preferencia\" ) # factores\n",
    "dat <-cbind(data,as.data.frame(fit$scores))"
   ]
  },
  {
   "cell_type": "markdown",
   "metadata": {},
   "source": [
    "Obtenemos el promedio de cada uno de los tres factores para cada marca de autos."
   ]
  },
  {
   "cell_type": "code",
   "execution_count": 13,
   "metadata": {},
   "outputs": [
    {
     "data": {
      "text/html": [
       "<table>\n",
       "<thead><tr><th scope=col>Brand</th><th scope=col>ModayDesempeño</th><th scope=col>ConformidadyConfiabilidad</th><th scope=col>Preferencia</th></tr></thead>\n",
       "<tbody>\n",
       "\t<tr><td>Acura      </td><td> 0.2045168 </td><td>-0.64694169</td><td>-0.05292045</td></tr>\n",
       "\t<tr><td>BMW        </td><td> 0.9588721 </td><td> 0.05108220</td><td> 0.18341906</td></tr>\n",
       "\t<tr><td>Cadillac   </td><td>-0.6535331 </td><td> 0.04669531</td><td>-0.18326474</td></tr>\n",
       "\t<tr><td>Lexus      </td><td> 0.1705063 </td><td> 0.39393481</td><td> 0.14126818</td></tr>\n",
       "\t<tr><td>Lincoln    </td><td>-1.1194629 </td><td>-0.20746184</td><td>-0.20800359</td></tr>\n",
       "\t<tr><td>Mercedes   </td><td> 0.4391008 </td><td> 0.36269121</td><td> 0.11950153</td></tr>\n",
       "</tbody>\n",
       "</table>\n"
      ],
      "text/latex": [
       "\\begin{tabular}{r|llll}\n",
       " Brand & ModayDesempeño & ConformidadyConfiabilidad & Preferencia\\\\\n",
       "\\hline\n",
       "\t Acura       &  0.2045168  & -0.64694169 & -0.05292045\\\\\n",
       "\t BMW         &  0.9588721  &  0.05108220 &  0.18341906\\\\\n",
       "\t Cadillac    & -0.6535331  &  0.04669531 & -0.18326474\\\\\n",
       "\t Lexus       &  0.1705063  &  0.39393481 &  0.14126818\\\\\n",
       "\t Lincoln     & -1.1194629  & -0.20746184 & -0.20800359\\\\\n",
       "\t Mercedes    &  0.4391008  &  0.36269121 &  0.11950153\\\\\n",
       "\\end{tabular}\n"
      ],
      "text/markdown": [
       "\n",
       "Brand | ModayDesempeño | ConformidadyConfiabilidad | Preferencia | \n",
       "|---|---|---|---|---|---|\n",
       "| Acura       |  0.2045168  | -0.64694169 | -0.05292045 | \n",
       "| BMW         |  0.9588721  |  0.05108220 |  0.18341906 | \n",
       "| Cadillac    | -0.6535331  |  0.04669531 | -0.18326474 | \n",
       "| Lexus       |  0.1705063  |  0.39393481 |  0.14126818 | \n",
       "| Lincoln     | -1.1194629  | -0.20746184 | -0.20800359 | \n",
       "| Mercedes    |  0.4391008  |  0.36269121 |  0.11950153 | \n",
       "\n",
       "\n"
      ],
      "text/plain": [
       "  Brand    ModayDesempeño ConformidadyConfiabilidad Preferencia\n",
       "1 Acura     0.2045168     -0.64694169               -0.05292045\n",
       "2 BMW       0.9588721      0.05108220                0.18341906\n",
       "3 Cadillac -0.6535331      0.04669531               -0.18326474\n",
       "4 Lexus     0.1705063      0.39393481                0.14126818\n",
       "5 Lincoln  -1.1194629     -0.20746184               -0.20800359\n",
       "6 Mercedes  0.4391008      0.36269121                0.11950153"
      ]
     },
     "metadata": {},
     "output_type": "display_data"
    }
   ],
   "source": [
    "mean <- dat %>%\n",
    "    group_by(Brand) %>%\n",
    "    summarize(ModayDesempeño = mean(ModayDesempeño, na.rm = TRUE ), \n",
    "              ConformidadyConfiabilidad = mean(ConformidadyConfiabilidad, na.rm = TRUE ), \n",
    "              Preferencia = mean(Preferencia, na.rm = TRUE ))\n",
    "\n",
    "mean"
   ]
  },
  {
   "cell_type": "markdown",
   "metadata": {},
   "source": [
    "Consstruimos la gráfica de dispersión para poder observar las ubicaciones de cada marca."
   ]
  },
  {
   "cell_type": "code",
   "execution_count": 14,
   "metadata": {},
   "outputs": [
    {
     "data": {
      "image/png": "[encoded data removed]",
      "text/plain": [
       "Plot with title \"Mapeo perceptual\""
      ]
     },
     "metadata": {},
     "output_type": "display_data"
    }
   ],
   "source": [
    "biplot(as.matrix(mean[, 2 : 4 ]), fit$loadings, xlabs=mean$Brand, main = \"Mapeo perceptual\" )\n",
    "abline(h= 0 , v= 0 )"
   ]
  },
  {
   "cell_type": "markdown",
   "metadata": {},
   "source": [
    "## 4.- interpreta el mapa del punto anterior."
   ]
  },
  {
   "cell_type": "markdown",
   "metadata": {},
   "source": [
    "Para cada marca de autos podemos sacar que:\n",
    "- **Mercedes** es la mejor calificada por los encuestados.\n",
    "- **Lexus** es la segunda mejor calificada pero se inclina más para el confort.\n",
    "- **BMW** es la tercera mejor pero inclinandose mucho por el tema de la deportividad con ya es sabido.\n",
    "- **Cadillac** obtiene una puntuación más dominante en el conford y la confiablidad de sus vehículos.\n",
    "- **Acura** presenta una mejor puntuación en lo que se refiere a moda y el diseño.\n",
    "- **Lincoln** queda en último lugar en puntuación en todos los apartados."
   ]
  }
 ],
 "metadata": {
  "kernelspec": {
   "display_name": "R",
   "language": "R",
   "name": "ir"
  },
  "language_info": {
   "codemirror_mode": "r",
   "file_extension": ".r",
   "mimetype": "text/x-r-source",
   "name": "R",
   "pygments_lexer": "r",
   "version": "3.5.1"
  }
 },
 "nbformat": 4,
 "nbformat_minor": 2
}
